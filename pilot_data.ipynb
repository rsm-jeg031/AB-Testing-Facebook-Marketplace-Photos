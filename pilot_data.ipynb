{
 "cells": [
  {
   "cell_type": "code",
   "execution_count": 2,
   "metadata": {},
   "outputs": [],
   "source": [
    "import pandas as pd"
   ]
  },
  {
   "cell_type": "code",
   "execution_count": 5,
   "metadata": {},
   "outputs": [],
   "source": [
    "pilot_data = pd.read_csv('Total_Pilot_Data.csv')"
   ]
  },
  {
   "cell_type": "code",
   "execution_count": 6,
   "metadata": {},
   "outputs": [
    {
     "data": {
      "text/html": [
       "<div>\n",
       "<style scoped>\n",
       "    .dataframe tbody tr th:only-of-type {\n",
       "        vertical-align: middle;\n",
       "    }\n",
       "\n",
       "    .dataframe tbody tr th {\n",
       "        vertical-align: top;\n",
       "    }\n",
       "\n",
       "    .dataframe thead th {\n",
       "        text-align: right;\n",
       "    }\n",
       "</style>\n",
       "<table border=\"1\" class=\"dataframe\">\n",
       "  <thead>\n",
       "    <tr style=\"text-align: right;\">\n",
       "      <th></th>\n",
       "      <th>Treatment</th>\n",
       "      <th>Product</th>\n",
       "      <th>Day</th>\n",
       "      <th>Week</th>\n",
       "      <th>City</th>\n",
       "      <th>Clicks_per_day</th>\n",
       "      <th>Clicks_CUM</th>\n",
       "      <th>Saves_per_day</th>\n",
       "      <th>Saves_CUM</th>\n",
       "      <th>Shares</th>\n",
       "      <th>Messages_per_day</th>\n",
       "      <th>Messages_CUM</th>\n",
       "    </tr>\n",
       "  </thead>\n",
       "  <tbody>\n",
       "    <tr>\n",
       "      <th>0</th>\n",
       "      <td>1</td>\n",
       "      <td>1</td>\n",
       "      <td>1</td>\n",
       "      <td>1</td>\n",
       "      <td>1</td>\n",
       "      <td>46</td>\n",
       "      <td>46</td>\n",
       "      <td>2</td>\n",
       "      <td>2</td>\n",
       "      <td>0</td>\n",
       "      <td>2.0</td>\n",
       "      <td>2</td>\n",
       "    </tr>\n",
       "    <tr>\n",
       "      <th>1</th>\n",
       "      <td>1</td>\n",
       "      <td>2</td>\n",
       "      <td>1</td>\n",
       "      <td>1</td>\n",
       "      <td>1</td>\n",
       "      <td>75</td>\n",
       "      <td>75</td>\n",
       "      <td>5</td>\n",
       "      <td>5</td>\n",
       "      <td>0</td>\n",
       "      <td>7.0</td>\n",
       "      <td>7</td>\n",
       "    </tr>\n",
       "    <tr>\n",
       "      <th>2</th>\n",
       "      <td>1</td>\n",
       "      <td>3</td>\n",
       "      <td>1</td>\n",
       "      <td>1</td>\n",
       "      <td>1</td>\n",
       "      <td>19</td>\n",
       "      <td>19</td>\n",
       "      <td>0</td>\n",
       "      <td>0</td>\n",
       "      <td>0</td>\n",
       "      <td>1.0</td>\n",
       "      <td>1</td>\n",
       "    </tr>\n",
       "    <tr>\n",
       "      <th>3</th>\n",
       "      <td>1</td>\n",
       "      <td>4</td>\n",
       "      <td>1</td>\n",
       "      <td>1</td>\n",
       "      <td>1</td>\n",
       "      <td>54</td>\n",
       "      <td>54</td>\n",
       "      <td>1</td>\n",
       "      <td>1</td>\n",
       "      <td>0</td>\n",
       "      <td>1.0</td>\n",
       "      <td>1</td>\n",
       "    </tr>\n",
       "    <tr>\n",
       "      <th>4</th>\n",
       "      <td>2</td>\n",
       "      <td>1</td>\n",
       "      <td>1</td>\n",
       "      <td>1</td>\n",
       "      <td>2</td>\n",
       "      <td>2</td>\n",
       "      <td>2</td>\n",
       "      <td>0</td>\n",
       "      <td>0</td>\n",
       "      <td>0</td>\n",
       "      <td>0.0</td>\n",
       "      <td>0</td>\n",
       "    </tr>\n",
       "    <tr>\n",
       "      <th>...</th>\n",
       "      <td>...</td>\n",
       "      <td>...</td>\n",
       "      <td>...</td>\n",
       "      <td>...</td>\n",
       "      <td>...</td>\n",
       "      <td>...</td>\n",
       "      <td>...</td>\n",
       "      <td>...</td>\n",
       "      <td>...</td>\n",
       "      <td>...</td>\n",
       "      <td>...</td>\n",
       "      <td>...</td>\n",
       "    </tr>\n",
       "    <tr>\n",
       "      <th>107</th>\n",
       "      <td>2</td>\n",
       "      <td>4</td>\n",
       "      <td>7</td>\n",
       "      <td>2</td>\n",
       "      <td>1</td>\n",
       "      <td>89</td>\n",
       "      <td>1135</td>\n",
       "      <td>1</td>\n",
       "      <td>36</td>\n",
       "      <td>0</td>\n",
       "      <td>1.0</td>\n",
       "      <td>16</td>\n",
       "    </tr>\n",
       "    <tr>\n",
       "      <th>108</th>\n",
       "      <td>1</td>\n",
       "      <td>1</td>\n",
       "      <td>7</td>\n",
       "      <td>2</td>\n",
       "      <td>2</td>\n",
       "      <td>3</td>\n",
       "      <td>34</td>\n",
       "      <td>0</td>\n",
       "      <td>3</td>\n",
       "      <td>0</td>\n",
       "      <td>1.0</td>\n",
       "      <td>2</td>\n",
       "    </tr>\n",
       "    <tr>\n",
       "      <th>109</th>\n",
       "      <td>1</td>\n",
       "      <td>2</td>\n",
       "      <td>7</td>\n",
       "      <td>2</td>\n",
       "      <td>2</td>\n",
       "      <td>54</td>\n",
       "      <td>553</td>\n",
       "      <td>3</td>\n",
       "      <td>27</td>\n",
       "      <td>0</td>\n",
       "      <td>4.0</td>\n",
       "      <td>26</td>\n",
       "    </tr>\n",
       "    <tr>\n",
       "      <th>110</th>\n",
       "      <td>1</td>\n",
       "      <td>3</td>\n",
       "      <td>7</td>\n",
       "      <td>2</td>\n",
       "      <td>2</td>\n",
       "      <td>96</td>\n",
       "      <td>794</td>\n",
       "      <td>3</td>\n",
       "      <td>27</td>\n",
       "      <td>2</td>\n",
       "      <td>5.0</td>\n",
       "      <td>43</td>\n",
       "    </tr>\n",
       "    <tr>\n",
       "      <th>111</th>\n",
       "      <td>1</td>\n",
       "      <td>4</td>\n",
       "      <td>7</td>\n",
       "      <td>2</td>\n",
       "      <td>2</td>\n",
       "      <td>153</td>\n",
       "      <td>2633</td>\n",
       "      <td>6</td>\n",
       "      <td>84</td>\n",
       "      <td>0</td>\n",
       "      <td>2.0</td>\n",
       "      <td>26</td>\n",
       "    </tr>\n",
       "  </tbody>\n",
       "</table>\n",
       "<p>112 rows × 12 columns</p>\n",
       "</div>"
      ],
      "text/plain": [
       "     Treatment  Product  Day  Week  City  Clicks_per_day  Clicks_CUM  \\\n",
       "0            1        1    1     1     1              46          46   \n",
       "1            1        2    1     1     1              75          75   \n",
       "2            1        3    1     1     1              19          19   \n",
       "3            1        4    1     1     1              54          54   \n",
       "4            2        1    1     1     2               2           2   \n",
       "..         ...      ...  ...   ...   ...             ...         ...   \n",
       "107          2        4    7     2     1              89        1135   \n",
       "108          1        1    7     2     2               3          34   \n",
       "109          1        2    7     2     2              54         553   \n",
       "110          1        3    7     2     2              96         794   \n",
       "111          1        4    7     2     2             153        2633   \n",
       "\n",
       "     Saves_per_day  Saves_CUM  Shares  Messages_per_day  Messages_CUM  \n",
       "0                2          2       0               2.0             2  \n",
       "1                5          5       0               7.0             7  \n",
       "2                0          0       0               1.0             1  \n",
       "3                1          1       0               1.0             1  \n",
       "4                0          0       0               0.0             0  \n",
       "..             ...        ...     ...               ...           ...  \n",
       "107              1         36       0               1.0            16  \n",
       "108              0          3       0               1.0             2  \n",
       "109              3         27       0               4.0            26  \n",
       "110              3         27       2               5.0            43  \n",
       "111              6         84       0               2.0            26  \n",
       "\n",
       "[112 rows x 12 columns]"
      ]
     },
     "execution_count": 6,
     "metadata": {},
     "output_type": "execute_result"
    }
   ],
   "source": [
    "pilot_data"
   ]
  },
  {
   "cell_type": "code",
   "execution_count": 8,
   "metadata": {},
   "outputs": [
    {
     "data": {
      "text/plain": [
       "(1.7989081997683125, 0.07477529983656941)"
      ]
     },
     "execution_count": 8,
     "metadata": {},
     "output_type": "execute_result"
    }
   ],
   "source": [
    "from scipy.stats import ttest_ind\n",
    "\n",
    "# Separating the 'Day of the Week' data into two groups: Retail and Personal\n",
    "retail_days = pilot_data[pilot_data['Treatment'] == 1]['Clicks_per_day']\n",
    "personal_days = pilot_data[pilot_data['Treatment'] == 2]['Clicks_per_day']\n",
    "\n",
    "# Performing the independent samples t-test\n",
    "t_stat, p_value = ttest_ind(retail_days, personal_days)\n",
    "\n",
    "t_stat, p_value\n"
   ]
  },
  {
   "cell_type": "code",
   "execution_count": 21,
   "metadata": {},
   "outputs": [],
   "source": [
    "# create a new column named location so if week ==1 and type is personal or if week ==2 and type == retail, the cell will have San Diego, else Phoenix\n",
    "\n",
    "pilot_data['Location'] = 'San Diego'\n",
    "pilot_data.loc[(pilot_data['Week'] == 2) & (pilot_data['Treatment'] == 1), 'Location'] = 'Phoenix'\n",
    "pilot_data.loc[(pilot_data['Week'] == 1) & (pilot_data['Treatment'] == 2), 'Location'] = 'Phoenix'\n"
   ]
  },
  {
   "cell_type": "code",
   "execution_count": 32,
   "metadata": {},
   "outputs": [],
   "source": [
    "pilot_data.loc[80, 'Messages_per_day'] = 0\n",
    "pilot_data.loc[84, 'Messages_per_day'] = 0"
   ]
  },
  {
   "cell_type": "code",
   "execution_count": 24,
   "metadata": {},
   "outputs": [
    {
     "data": {
      "text/plain": [
       "Location   Week\n",
       "Phoenix    1        43.928571\n",
       "           2       143.357143\n",
       "San Diego  1        28.428571\n",
       "           2        49.964286\n",
       "Name: Clicks_per_day, dtype: float64"
      ]
     },
     "execution_count": 24,
     "metadata": {},
     "output_type": "execute_result"
    }
   ],
   "source": [
    "avg_clicks_loc_week = pilot_data.groupby(['Location','Week'])['Clicks_per_day'].mean()\n",
    "avg_clicks_loc_week"
   ]
  },
  {
   "cell_type": "code",
   "execution_count": 25,
   "metadata": {},
   "outputs": [
    {
     "data": {
      "text/plain": [
       "Location\n",
       "Phoenix      93.642857\n",
       "San Diego    39.196429\n",
       "Name: Clicks_per_day, dtype: float64"
      ]
     },
     "execution_count": 25,
     "metadata": {},
     "output_type": "execute_result"
    }
   ],
   "source": [
    "# Average clicks for each location\n",
    "avg_clicks_loc = pilot_data.groupby(['Location'])['Clicks_per_day'].mean()\n",
    "avg_clicks_loc"
   ]
  },
  {
   "cell_type": "code",
   "execution_count": 26,
   "metadata": {},
   "outputs": [
    {
     "data": {
      "text/plain": [
       "Product\n",
       "1      9.392857\n",
       "2     34.321429\n",
       "3     39.357143\n",
       "4    182.607143\n",
       "Name: Clicks_per_day, dtype: float64"
      ]
     },
     "execution_count": 26,
     "metadata": {},
     "output_type": "execute_result"
    }
   ],
   "source": [
    "avg_clicks_product = pilot_data.groupby(['Product'])['Clicks_per_day'].mean()\n",
    "avg_clicks_product"
   ]
  },
  {
   "cell_type": "code",
   "execution_count": 27,
   "metadata": {},
   "outputs": [
    {
     "data": {
      "text/plain": [
       "Product  Week\n",
       "1        1        15.071429\n",
       "         2         3.714286\n",
       "2        1        22.571429\n",
       "         2        46.071429\n",
       "3        1        11.000000\n",
       "         2        67.714286\n",
       "4        1        96.071429\n",
       "         2       269.142857\n",
       "Name: Clicks_per_day, dtype: float64"
      ]
     },
     "execution_count": 27,
     "metadata": {},
     "output_type": "execute_result"
    }
   ],
   "source": [
    "avg_clicks_product_week = pilot_data.groupby(['Product', 'Week'])['Clicks_per_day'].mean()\n",
    "avg_clicks_product_week"
   ]
  },
  {
   "cell_type": "code",
   "execution_count": 33,
   "metadata": {},
   "outputs": [],
   "source": [
    "pilot_data['Messages_per_day'] = pilot_data['Messages_per_day'].astype('int32')"
   ]
  },
  {
   "cell_type": "code",
   "execution_count": 34,
   "metadata": {},
   "outputs": [
    {
     "data": {
      "text/plain": [
       "(1.9882168442514094, 0.0492716434099909)"
      ]
     },
     "execution_count": 34,
     "metadata": {},
     "output_type": "execute_result"
    }
   ],
   "source": [
    "from scipy.stats import ttest_ind\n",
    "\n",
    "# Separating the 'Day of the Week' data into two groups: Retail and Personal\n",
    "retail_days_messages = pilot_data[pilot_data['Treatment'] == 1]['Messages_per_day']\n",
    "personal_days_messages = pilot_data[pilot_data['Treatment'] == 2]['Messages_per_day']\n",
    "\n",
    "# Performing the independent samples t-test\n",
    "t_stat, p_value = ttest_ind(retail_days_messages, personal_days_messages)\n",
    "\n",
    "t_stat, p_value"
   ]
  },
  {
   "cell_type": "code",
   "execution_count": 36,
   "metadata": {},
   "outputs": [
    {
     "data": {
      "text/plain": [
       "(1.053271639712072, 0.2945246542991504)"
      ]
     },
     "execution_count": 36,
     "metadata": {},
     "output_type": "execute_result"
    }
   ],
   "source": [
    "from scipy.stats import ttest_ind\n",
    "\n",
    "# Separating the 'Day of the Week' data into two groups: Retail and Personal\n",
    "retail_days_saves = pilot_data[pilot_data['Treatment'] == 1]['Saves_per_day']\n",
    "personal_days_saves = pilot_data[pilot_data['Treatment'] == 2]['Saves_per_day']\n",
    "\n",
    "# Performing the independent samples t-test\n",
    "t_stat, p_value = ttest_ind(retail_days_saves, personal_days_saves)\n",
    "\n",
    "t_stat, p_value"
   ]
  },
  {
   "cell_type": "markdown",
   "metadata": {},
   "source": [
    "Not Significant!"
   ]
  },
  {
   "cell_type": "code",
   "execution_count": 38,
   "metadata": {},
   "outputs": [
    {
     "data": {
      "text/plain": [
       "Location   Week\n",
       "Phoenix    1       3.250000\n",
       "           2       5.035714\n",
       "San Diego  1       1.571429\n",
       "           2       1.392857\n",
       "Name: Saves_per_day, dtype: float64"
      ]
     },
     "execution_count": 38,
     "metadata": {},
     "output_type": "execute_result"
    }
   ],
   "source": [
    "average_saves = pilot_data.groupby(['Location', 'Week'])['Saves_per_day'].mean()\n",
    "average_saves"
   ]
  }
 ],
 "metadata": {
  "kernelspec": {
   "display_name": "base",
   "language": "python",
   "name": "python3"
  },
  "language_info": {
   "codemirror_mode": {
    "name": "ipython",
    "version": 3
   },
   "file_extension": ".py",
   "mimetype": "text/x-python",
   "name": "python",
   "nbconvert_exporter": "python",
   "pygments_lexer": "ipython3",
   "version": "3.11.7"
  }
 },
 "nbformat": 4,
 "nbformat_minor": 2
}
