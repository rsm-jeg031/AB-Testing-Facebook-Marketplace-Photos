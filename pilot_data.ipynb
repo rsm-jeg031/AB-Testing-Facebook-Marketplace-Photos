{
 "cells": [
  {
   "cell_type": "code",
   "execution_count": 15,
   "metadata": {},
   "outputs": [],
   "source": [
    "import pandas as pd\n",
    "import numpy as np\n",
    "import pyrsm as rsm"
   ]
  },
  {
   "cell_type": "code",
   "execution_count": 2,
   "metadata": {},
   "outputs": [],
   "source": [
    "pilot_data = pd.read_csv('Total_Pilot_Data.csv')"
   ]
  },
  {
   "cell_type": "code",
   "execution_count": 3,
   "metadata": {},
   "outputs": [
    {
     "data": {
      "text/html": [
       "<div>\n",
       "<style scoped>\n",
       "    .dataframe tbody tr th:only-of-type {\n",
       "        vertical-align: middle;\n",
       "    }\n",
       "\n",
       "    .dataframe tbody tr th {\n",
       "        vertical-align: top;\n",
       "    }\n",
       "\n",
       "    .dataframe thead th {\n",
       "        text-align: right;\n",
       "    }\n",
       "</style>\n",
       "<table border=\"1\" class=\"dataframe\">\n",
       "  <thead>\n",
       "    <tr style=\"text-align: right;\">\n",
       "      <th></th>\n",
       "      <th>Treatment</th>\n",
       "      <th>Product</th>\n",
       "      <th>Day</th>\n",
       "      <th>Week</th>\n",
       "      <th>City</th>\n",
       "      <th>Clicks_per_day</th>\n",
       "      <th>Clicks_CUM</th>\n",
       "      <th>Saves_per_day</th>\n",
       "      <th>Saves_CUM</th>\n",
       "      <th>Shares</th>\n",
       "      <th>Messages_per_day</th>\n",
       "      <th>Messages_CUM</th>\n",
       "    </tr>\n",
       "  </thead>\n",
       "  <tbody>\n",
       "    <tr>\n",
       "      <th>0</th>\n",
       "      <td>1</td>\n",
       "      <td>1</td>\n",
       "      <td>1</td>\n",
       "      <td>1</td>\n",
       "      <td>1</td>\n",
       "      <td>46</td>\n",
       "      <td>46</td>\n",
       "      <td>2</td>\n",
       "      <td>2</td>\n",
       "      <td>0</td>\n",
       "      <td>2.0</td>\n",
       "      <td>2</td>\n",
       "    </tr>\n",
       "    <tr>\n",
       "      <th>1</th>\n",
       "      <td>1</td>\n",
       "      <td>2</td>\n",
       "      <td>1</td>\n",
       "      <td>1</td>\n",
       "      <td>1</td>\n",
       "      <td>75</td>\n",
       "      <td>75</td>\n",
       "      <td>5</td>\n",
       "      <td>5</td>\n",
       "      <td>0</td>\n",
       "      <td>7.0</td>\n",
       "      <td>7</td>\n",
       "    </tr>\n",
       "    <tr>\n",
       "      <th>2</th>\n",
       "      <td>1</td>\n",
       "      <td>3</td>\n",
       "      <td>1</td>\n",
       "      <td>1</td>\n",
       "      <td>1</td>\n",
       "      <td>19</td>\n",
       "      <td>19</td>\n",
       "      <td>0</td>\n",
       "      <td>0</td>\n",
       "      <td>0</td>\n",
       "      <td>1.0</td>\n",
       "      <td>1</td>\n",
       "    </tr>\n",
       "    <tr>\n",
       "      <th>3</th>\n",
       "      <td>1</td>\n",
       "      <td>4</td>\n",
       "      <td>1</td>\n",
       "      <td>1</td>\n",
       "      <td>1</td>\n",
       "      <td>54</td>\n",
       "      <td>54</td>\n",
       "      <td>1</td>\n",
       "      <td>1</td>\n",
       "      <td>0</td>\n",
       "      <td>1.0</td>\n",
       "      <td>1</td>\n",
       "    </tr>\n",
       "    <tr>\n",
       "      <th>4</th>\n",
       "      <td>2</td>\n",
       "      <td>1</td>\n",
       "      <td>1</td>\n",
       "      <td>1</td>\n",
       "      <td>2</td>\n",
       "      <td>2</td>\n",
       "      <td>2</td>\n",
       "      <td>0</td>\n",
       "      <td>0</td>\n",
       "      <td>0</td>\n",
       "      <td>0.0</td>\n",
       "      <td>0</td>\n",
       "    </tr>\n",
       "    <tr>\n",
       "      <th>...</th>\n",
       "      <td>...</td>\n",
       "      <td>...</td>\n",
       "      <td>...</td>\n",
       "      <td>...</td>\n",
       "      <td>...</td>\n",
       "      <td>...</td>\n",
       "      <td>...</td>\n",
       "      <td>...</td>\n",
       "      <td>...</td>\n",
       "      <td>...</td>\n",
       "      <td>...</td>\n",
       "      <td>...</td>\n",
       "    </tr>\n",
       "    <tr>\n",
       "      <th>107</th>\n",
       "      <td>2</td>\n",
       "      <td>4</td>\n",
       "      <td>7</td>\n",
       "      <td>2</td>\n",
       "      <td>1</td>\n",
       "      <td>89</td>\n",
       "      <td>1135</td>\n",
       "      <td>1</td>\n",
       "      <td>36</td>\n",
       "      <td>0</td>\n",
       "      <td>1.0</td>\n",
       "      <td>16</td>\n",
       "    </tr>\n",
       "    <tr>\n",
       "      <th>108</th>\n",
       "      <td>1</td>\n",
       "      <td>1</td>\n",
       "      <td>7</td>\n",
       "      <td>2</td>\n",
       "      <td>2</td>\n",
       "      <td>3</td>\n",
       "      <td>34</td>\n",
       "      <td>0</td>\n",
       "      <td>3</td>\n",
       "      <td>0</td>\n",
       "      <td>1.0</td>\n",
       "      <td>2</td>\n",
       "    </tr>\n",
       "    <tr>\n",
       "      <th>109</th>\n",
       "      <td>1</td>\n",
       "      <td>2</td>\n",
       "      <td>7</td>\n",
       "      <td>2</td>\n",
       "      <td>2</td>\n",
       "      <td>54</td>\n",
       "      <td>553</td>\n",
       "      <td>3</td>\n",
       "      <td>27</td>\n",
       "      <td>0</td>\n",
       "      <td>4.0</td>\n",
       "      <td>26</td>\n",
       "    </tr>\n",
       "    <tr>\n",
       "      <th>110</th>\n",
       "      <td>1</td>\n",
       "      <td>3</td>\n",
       "      <td>7</td>\n",
       "      <td>2</td>\n",
       "      <td>2</td>\n",
       "      <td>96</td>\n",
       "      <td>794</td>\n",
       "      <td>3</td>\n",
       "      <td>27</td>\n",
       "      <td>2</td>\n",
       "      <td>5.0</td>\n",
       "      <td>43</td>\n",
       "    </tr>\n",
       "    <tr>\n",
       "      <th>111</th>\n",
       "      <td>1</td>\n",
       "      <td>4</td>\n",
       "      <td>7</td>\n",
       "      <td>2</td>\n",
       "      <td>2</td>\n",
       "      <td>153</td>\n",
       "      <td>2633</td>\n",
       "      <td>6</td>\n",
       "      <td>84</td>\n",
       "      <td>0</td>\n",
       "      <td>2.0</td>\n",
       "      <td>26</td>\n",
       "    </tr>\n",
       "  </tbody>\n",
       "</table>\n",
       "<p>112 rows × 12 columns</p>\n",
       "</div>"
      ],
      "text/plain": [
       "     Treatment  Product  Day  Week  City  Clicks_per_day  Clicks_CUM  \\\n",
       "0            1        1    1     1     1              46          46   \n",
       "1            1        2    1     1     1              75          75   \n",
       "2            1        3    1     1     1              19          19   \n",
       "3            1        4    1     1     1              54          54   \n",
       "4            2        1    1     1     2               2           2   \n",
       "..         ...      ...  ...   ...   ...             ...         ...   \n",
       "107          2        4    7     2     1              89        1135   \n",
       "108          1        1    7     2     2               3          34   \n",
       "109          1        2    7     2     2              54         553   \n",
       "110          1        3    7     2     2              96         794   \n",
       "111          1        4    7     2     2             153        2633   \n",
       "\n",
       "     Saves_per_day  Saves_CUM  Shares  Messages_per_day  Messages_CUM  \n",
       "0                2          2       0               2.0             2  \n",
       "1                5          5       0               7.0             7  \n",
       "2                0          0       0               1.0             1  \n",
       "3                1          1       0               1.0             1  \n",
       "4                0          0       0               0.0             0  \n",
       "..             ...        ...     ...               ...           ...  \n",
       "107              1         36       0               1.0            16  \n",
       "108              0          3       0               1.0             2  \n",
       "109              3         27       0               4.0            26  \n",
       "110              3         27       2               5.0            43  \n",
       "111              6         84       0               2.0            26  \n",
       "\n",
       "[112 rows x 12 columns]"
      ]
     },
     "execution_count": 3,
     "metadata": {},
     "output_type": "execute_result"
    }
   ],
   "source": [
    "pilot_data"
   ]
  },
  {
   "cell_type": "markdown",
   "metadata": {},
   "source": [
    "# Compare Means"
   ]
  },
  {
   "cell_type": "markdown",
   "metadata": {},
   "source": [
    "#### Compare Means (Clicks)"
   ]
  },
  {
   "cell_type": "code",
   "execution_count": 4,
   "metadata": {},
   "outputs": [
    {
     "data": {
      "text/plain": [
       "(1.7989081997683125, 0.07477529983656941)"
      ]
     },
     "execution_count": 4,
     "metadata": {},
     "output_type": "execute_result"
    }
   ],
   "source": [
    "from scipy.stats import ttest_ind\n",
    "\n",
    "# Separating the 'Day of the Week' data into two groups: Retail and Personal\n",
    "retail_days = pilot_data[pilot_data['Treatment'] == 1]['Clicks_per_day']\n",
    "personal_days = pilot_data[pilot_data['Treatment'] == 2]['Clicks_per_day']\n",
    "\n",
    "# Performing the independent samples t-test\n",
    "t_stat, p_value = ttest_ind(retail_days, personal_days)\n",
    "\n",
    "t_stat, p_value\n"
   ]
  },
  {
   "cell_type": "markdown",
   "metadata": {},
   "source": [
    "We can statistically say there is no differene between using real and retail photos. However, the p value is almost on the threshold so further data would be required."
   ]
  },
  {
   "cell_type": "code",
   "execution_count": 5,
   "metadata": {},
   "outputs": [],
   "source": [
    "# create a new column named location so if week ==1 and type is personal or if week ==2 and type == retail, the cell will have San Diego, else Phoenix\n",
    "\n",
    "pilot_data['Location'] = 'San Diego'\n",
    "pilot_data.loc[(pilot_data['Week'] == 2) & (pilot_data['Treatment'] == 1), 'Location'] = 'Phoenix'\n",
    "pilot_data.loc[(pilot_data['Week'] == 1) & (pilot_data['Treatment'] == 2), 'Location'] = 'Phoenix'\n"
   ]
  },
  {
   "cell_type": "code",
   "execution_count": 6,
   "metadata": {},
   "outputs": [],
   "source": [
    "pilot_data.loc[80, 'Messages_per_day'] = 0\n",
    "pilot_data.loc[84, 'Messages_per_day'] = 0"
   ]
  },
  {
   "cell_type": "code",
   "execution_count": 7,
   "metadata": {},
   "outputs": [
    {
     "data": {
      "text/plain": [
       "Location   Week\n",
       "Phoenix    1        43.928571\n",
       "           2       143.357143\n",
       "San Diego  1        28.428571\n",
       "           2        49.964286\n",
       "Name: Clicks_per_day, dtype: float64"
      ]
     },
     "execution_count": 7,
     "metadata": {},
     "output_type": "execute_result"
    }
   ],
   "source": [
    "avg_clicks_loc_week = pilot_data.groupby(['Location','Week'])['Clicks_per_day'].mean()\n",
    "avg_clicks_loc_week"
   ]
  },
  {
   "cell_type": "code",
   "execution_count": 8,
   "metadata": {},
   "outputs": [
    {
     "data": {
      "text/plain": [
       "Location\n",
       "Phoenix      93.642857\n",
       "San Diego    39.196429\n",
       "Name: Clicks_per_day, dtype: float64"
      ]
     },
     "execution_count": 8,
     "metadata": {},
     "output_type": "execute_result"
    }
   ],
   "source": [
    "# Average clicks for each location\n",
    "avg_clicks_loc = pilot_data.groupby(['Location'])['Clicks_per_day'].mean()\n",
    "avg_clicks_loc"
   ]
  },
  {
   "cell_type": "code",
   "execution_count": 9,
   "metadata": {},
   "outputs": [
    {
     "data": {
      "text/plain": [
       "Product\n",
       "1      9.392857\n",
       "2     34.321429\n",
       "3     39.357143\n",
       "4    182.607143\n",
       "Name: Clicks_per_day, dtype: float64"
      ]
     },
     "execution_count": 9,
     "metadata": {},
     "output_type": "execute_result"
    }
   ],
   "source": [
    "avg_clicks_product = pilot_data.groupby(['Product'])['Clicks_per_day'].mean()\n",
    "avg_clicks_product"
   ]
  },
  {
   "cell_type": "code",
   "execution_count": 10,
   "metadata": {},
   "outputs": [
    {
     "data": {
      "text/plain": [
       "Product  Week\n",
       "1        1        15.071429\n",
       "         2         3.714286\n",
       "2        1        22.571429\n",
       "         2        46.071429\n",
       "3        1        11.000000\n",
       "         2        67.714286\n",
       "4        1        96.071429\n",
       "         2       269.142857\n",
       "Name: Clicks_per_day, dtype: float64"
      ]
     },
     "execution_count": 10,
     "metadata": {},
     "output_type": "execute_result"
    }
   ],
   "source": [
    "avg_clicks_product_week = pilot_data.groupby(['Product', 'Week'])['Clicks_per_day'].mean()\n",
    "avg_clicks_product_week"
   ]
  },
  {
   "cell_type": "code",
   "execution_count": 11,
   "metadata": {},
   "outputs": [],
   "source": [
    "pilot_data['Messages_per_day'] = pilot_data['Messages_per_day'].astype('int32')"
   ]
  },
  {
   "cell_type": "markdown",
   "metadata": {},
   "source": [
    "#### Compare Means (Messages)"
   ]
  },
  {
   "cell_type": "code",
   "execution_count": 12,
   "metadata": {},
   "outputs": [
    {
     "data": {
      "text/plain": [
       "(1.9882168442514094, 0.0492716434099909)"
      ]
     },
     "execution_count": 12,
     "metadata": {},
     "output_type": "execute_result"
    }
   ],
   "source": [
    "from scipy.stats import ttest_ind\n",
    "\n",
    "# Separating the 'Day of the Week' data into two groups: Retail and Personal\n",
    "retail_days_messages = pilot_data[pilot_data['Treatment'] == 1]['Messages_per_day']\n",
    "personal_days_messages = pilot_data[pilot_data['Treatment'] == 2]['Messages_per_day']\n",
    "\n",
    "# Performing the independent samples t-test\n",
    "t_stat, p_value = ttest_ind(retail_days_messages, personal_days_messages)\n",
    "\n",
    "t_stat, p_value"
   ]
  },
  {
   "cell_type": "markdown",
   "metadata": {},
   "source": [
    "We can conclude that there exists a significant difference between using retail and real photos in order to receive more messages."
   ]
  },
  {
   "cell_type": "markdown",
   "metadata": {},
   "source": [
    "#### Compare Means (Saves)"
   ]
  },
  {
   "cell_type": "code",
   "execution_count": 13,
   "metadata": {},
   "outputs": [
    {
     "data": {
      "text/plain": [
       "(1.053271639712072, 0.2945246542991504)"
      ]
     },
     "execution_count": 13,
     "metadata": {},
     "output_type": "execute_result"
    }
   ],
   "source": [
    "from scipy.stats import ttest_ind\n",
    "\n",
    "# Separating the 'Day of the Week' data into two groups: Retail and Personal\n",
    "retail_days_saves = pilot_data[pilot_data['Treatment'] == 1]['Saves_per_day']\n",
    "personal_days_saves = pilot_data[pilot_data['Treatment'] == 2]['Saves_per_day']\n",
    "\n",
    "# Performing the independent samples t-test\n",
    "t_stat, p_value = ttest_ind(retail_days_saves, personal_days_saves)\n",
    "\n",
    "t_stat, p_value"
   ]
  },
  {
   "cell_type": "markdown",
   "metadata": {},
   "source": [
    "Not Significant!"
   ]
  },
  {
   "cell_type": "code",
   "execution_count": 38,
   "metadata": {},
   "outputs": [
    {
     "data": {
      "text/plain": [
       "Location   Week\n",
       "Phoenix    1       3.250000\n",
       "           2       5.035714\n",
       "San Diego  1       1.571429\n",
       "           2       1.392857\n",
       "Name: Saves_per_day, dtype: float64"
      ]
     },
     "execution_count": 38,
     "metadata": {},
     "output_type": "execute_result"
    }
   ],
   "source": [
    "average_saves = pilot_data.groupby(['Location', 'Week'])['Saves_per_day'].mean()\n",
    "average_saves"
   ]
  },
  {
   "cell_type": "markdown",
   "metadata": {},
   "source": [
    "# Linear Regression"
   ]
  },
  {
   "cell_type": "markdown",
   "metadata": {},
   "source": [
    "#### Linear Regression (Clicks)"
   ]
  },
  {
   "cell_type": "code",
   "execution_count": 20,
   "metadata": {},
   "outputs": [],
   "source": [
    "categorical_vars = ['Treatment', 'Product', 'Day', 'Week', 'City']\n",
    "\n",
    "# Convert variables to categorical\n",
    "for var in categorical_vars:\n",
    "    pilot_data[var] = pilot_data[var].astype('category')"
   ]
  },
  {
   "cell_type": "code",
   "execution_count": 26,
   "metadata": {},
   "outputs": [
    {
     "data": {
      "text/plain": [
       "Treatment           category\n",
       "Product             category\n",
       "Day                 category\n",
       "Week                category\n",
       "City                category\n",
       "Clicks_per_day         int64\n",
       "Clicks_CUM             int64\n",
       "Saves_per_day          int64\n",
       "Saves_CUM              int64\n",
       "Shares                 int64\n",
       "Messages_per_day       int32\n",
       "Messages_CUM           int64\n",
       "Location              object\n",
       "dtype: object"
      ]
     },
     "execution_count": 26,
     "metadata": {},
     "output_type": "execute_result"
    }
   ],
   "source": [
    "pilot_data.dtypes"
   ]
  },
  {
   "cell_type": "code",
   "execution_count": 21,
   "metadata": {},
   "outputs": [
    {
     "name": "stdout",
     "output_type": "stream",
     "text": [
      "Linear regression (OLS)\n",
      "Data                 : clicks regression\n",
      "Response variable    : Clicks_per_day\n",
      "Explanatory variables: Treatment, Product, Day, Week, City\n",
      "Null hyp.: the effect of x on Clicks_per_day is zero\n",
      "Alt. hyp.: the effect of x on Clicks_per_day is not zero\n",
      "\n",
      "              coefficient  std.error  t.value p.value     \n",
      "Intercept           32.11     27.664    1.161   0.249     \n",
      "Treatment[2]       -38.95     15.345   -2.538   0.013    *\n",
      "Product[2]          24.93     21.701    1.149   0.253     \n",
      "Product[3]          29.96     21.701    1.381    0.17     \n",
      "Product[4]         173.21     21.701    7.982  < .001  ***\n",
      "Day[2]             -42.75     28.708   -1.489    0.14     \n",
      "Day[3]             -72.37     28.708   -2.521   0.013    *\n",
      "Day[4]             -74.81     28.708   -2.606   0.011    *\n",
      "Day[5]             -78.00     28.708   -2.717   0.008   **\n",
      "Day[6]             -87.69     28.708   -3.054   0.003   **\n",
      "Day[7]             -69.31     28.708   -2.414   0.018    *\n",
      "Week[2]             60.48     15.345    3.941  < .001  ***\n",
      "City[2]             54.45     15.345    3.548  < .001  ***\n",
      "\n",
      "Signif. codes:  0 '***' 0.001 '**' 0.01 '*' 0.05 '.' 0.1 ' ' 1\n",
      "\n",
      "R-squared: 0.561, Adjusted R-squared: 0.508\n",
      "F-statistic: 10.533 df(12, 99), p.value < 0.001\n",
      "Nr obs: 112\n"
     ]
    }
   ],
   "source": [
    "clicks_reg = rsm.model.regress({\"clicks regression\": pilot_data}, rvar = \"Clicks_per_day\", evar = [\"Treatment\", \"Product\", \"Day\", \"Week\", \"City\"])\n",
    "clicks_reg.summary()"
   ]
  },
  {
   "cell_type": "code",
   "execution_count": 22,
   "metadata": {},
   "outputs": [
    {
     "name": "stderr",
     "output_type": "stream",
     "text": [
      "/opt/conda/lib/python3.11/site-packages/pyrsm/model/visualize.py:36: FutureWarning: is_categorical_dtype is deprecated and will be removed in a future version. Use isinstance(dtype, CategoricalDtype) instead\n",
      "  and not pd.api.types.is_categorical_dtype(df[c].dtype)\n",
      "/opt/conda/lib/python3.11/site-packages/pyrsm/model/visualize.py:58: FutureWarning: is_categorical_dtype is deprecated and will be removed in a future version. Use isinstance(dtype, CategoricalDtype) instead\n",
      "  elif pd.api.types.is_categorical_dtype(s.dtype):\n",
      "/opt/conda/lib/python3.11/site-packages/pyrsm/model/visualize.py:58: FutureWarning: is_categorical_dtype is deprecated and will be removed in a future version. Use isinstance(dtype, CategoricalDtype) instead\n",
      "  elif pd.api.types.is_categorical_dtype(s.dtype):\n",
      "/opt/conda/lib/python3.11/site-packages/pyrsm/model/visualize.py:58: FutureWarning: is_categorical_dtype is deprecated and will be removed in a future version. Use isinstance(dtype, CategoricalDtype) instead\n",
      "  elif pd.api.types.is_categorical_dtype(s.dtype):\n",
      "/opt/conda/lib/python3.11/site-packages/pyrsm/model/visualize.py:58: FutureWarning: is_categorical_dtype is deprecated and will be removed in a future version. Use isinstance(dtype, CategoricalDtype) instead\n",
      "  elif pd.api.types.is_categorical_dtype(s.dtype):\n",
      "/opt/conda/lib/python3.11/site-packages/pyrsm/model/visualize.py:58: FutureWarning: is_categorical_dtype is deprecated and will be removed in a future version. Use isinstance(dtype, CategoricalDtype) instead\n",
      "  elif pd.api.types.is_categorical_dtype(s.dtype):\n"
     ]
    },
    {
     "data": {
      "image/png": "[encoded data removed]",
      "text/plain": [
       "<Figure size 1000x1200 with 6 Axes>"
      ]
     },
     "metadata": {},
     "output_type": "display_data"
    }
   ],
   "source": [
    "clicks_reg.plot('distr')"
   ]
  },
  {
   "cell_type": "code",
   "execution_count": 27,
   "metadata": {},
   "outputs": [],
   "source": [
    "# Replace 0 in 'Clicks_per_day' with NaN temporarily for log calculation\n",
    "pilot_data['Clicks_per_day_temp'] = pilot_data['Clicks_per_day'].replace(0, np.nan)\n",
    "\n",
    "# Calculate the natural log of 'Clicks_per_day', log(0) will result in NaN\n",
    "pilot_data['ln_Clicks_per_day'] = np.log(pilot_data['Clicks_per_day_temp'])\n",
    "\n",
    "# Replace NaN back with 0 in 'ln_Clicks_per_day'\n",
    "pilot_data['ln_Clicks_per_day'].fillna(0, inplace=True)\n",
    "\n",
    "# Drop the temporary column\n",
    "pilot_data.drop('Clicks_per_day_temp', axis=1, inplace=True)"
   ]
  },
  {
   "cell_type": "code",
   "execution_count": 28,
   "metadata": {},
   "outputs": [
    {
     "name": "stdout",
     "output_type": "stream",
     "text": [
      "Linear regression (OLS)\n",
      "Data                 : clicks regression\n",
      "Response variable    : ln_Clicks_per_day\n",
      "Explanatory variables: Treatment, Product, Day, Week, City\n",
      "Null hyp.: the effect of x on ln_Clicks_per_day is zero\n",
      "Alt. hyp.: the effect of x on ln_Clicks_per_day is not zero\n",
      "\n",
      "              coefficient  std.error  t.value p.value     \n",
      "Intercept            1.97      0.322    6.136  < .001  ***\n",
      "Treatment[2]        -0.83      0.178   -4.661  < .001  ***\n",
      "Product[2]           1.76      0.252    6.984  < .001  ***\n",
      "Product[3]           1.60      0.252    6.358  < .001  ***\n",
      "Product[4]           3.43      0.252   13.590  < .001  ***\n",
      "Day[2]              -0.70      0.334   -2.107   0.038    *\n",
      "Day[3]              -1.09      0.334   -3.267   0.001   **\n",
      "Day[4]              -0.99      0.334   -2.959   0.004   **\n",
      "Day[5]              -1.19      0.334   -3.565  < .001  ***\n",
      "Day[6]              -1.31      0.334   -3.918  < .001  ***\n",
      "Day[7]              -0.69      0.334   -2.079    0.04    *\n",
      "Week[2]              0.66      0.178    3.683  < .001  ***\n",
      "City[2]              0.53      0.178    2.968   0.004   **\n",
      "\n",
      "Signif. codes:  0 '***' 0.001 '**' 0.01 '*' 0.05 '.' 0.1 ' ' 1\n",
      "\n",
      "R-squared: 0.717, Adjusted R-squared: 0.682\n",
      "F-statistic: 20.851 df(12, 99), p.value < 0.001\n",
      "Nr obs: 112\n"
     ]
    }
   ],
   "source": [
    "clicks_reg = rsm.model.regress({\"clicks regression\": pilot_data}, rvar = \"ln_Clicks_per_day\", evar = [\"Treatment\", \"Product\", \"Day\", \"Week\", \"City\"])\n",
    "clicks_reg.summary()"
   ]
  },
  {
   "cell_type": "code",
   "execution_count": 29,
   "metadata": {},
   "outputs": [
    {
     "name": "stderr",
     "output_type": "stream",
     "text": [
      "/opt/conda/lib/python3.11/site-packages/pyrsm/model/visualize.py:36: FutureWarning: is_categorical_dtype is deprecated and will be removed in a future version. Use isinstance(dtype, CategoricalDtype) instead\n",
      "  and not pd.api.types.is_categorical_dtype(df[c].dtype)\n",
      "/opt/conda/lib/python3.11/site-packages/pyrsm/model/visualize.py:58: FutureWarning: is_categorical_dtype is deprecated and will be removed in a future version. Use isinstance(dtype, CategoricalDtype) instead\n",
      "  elif pd.api.types.is_categorical_dtype(s.dtype):\n",
      "/opt/conda/lib/python3.11/site-packages/pyrsm/model/visualize.py:58: FutureWarning: is_categorical_dtype is deprecated and will be removed in a future version. Use isinstance(dtype, CategoricalDtype) instead\n",
      "  elif pd.api.types.is_categorical_dtype(s.dtype):\n",
      "/opt/conda/lib/python3.11/site-packages/pyrsm/model/visualize.py:58: FutureWarning: is_categorical_dtype is deprecated and will be removed in a future version. Use isinstance(dtype, CategoricalDtype) instead\n",
      "  elif pd.api.types.is_categorical_dtype(s.dtype):\n",
      "/opt/conda/lib/python3.11/site-packages/pyrsm/model/visualize.py:58: FutureWarning: is_categorical_dtype is deprecated and will be removed in a future version. Use isinstance(dtype, CategoricalDtype) instead\n",
      "  elif pd.api.types.is_categorical_dtype(s.dtype):\n",
      "/opt/conda/lib/python3.11/site-packages/pyrsm/model/visualize.py:58: FutureWarning: is_categorical_dtype is deprecated and will be removed in a future version. Use isinstance(dtype, CategoricalDtype) instead\n",
      "  elif pd.api.types.is_categorical_dtype(s.dtype):\n"
     ]
    },
    {
     "data": {
      "image/png": "[encoded data removed]",
      "text/plain": [
       "<Figure size 1000x1200 with 6 Axes>"
      ]
     },
     "metadata": {},
     "output_type": "display_data"
    }
   ],
   "source": [
    "clicks_reg.plot('distr')"
   ]
  },
  {
   "cell_type": "markdown",
   "metadata": {},
   "source": [
    "#### Linear Regression (Saves)"
   ]
  },
  {
   "cell_type": "code",
   "execution_count": 31,
   "metadata": {},
   "outputs": [
    {
     "name": "stdout",
     "output_type": "stream",
     "text": [
      "Linear regression (OLS)\n",
      "Data                 : saves regression\n",
      "Response variable    : Saves_per_day\n",
      "Explanatory variables: Treatment, Product, Day, Week, City\n",
      "Null hyp.: the effect of x on Saves_per_day is zero\n",
      "Alt. hyp.: the effect of x on Saves_per_day is not zero\n",
      "\n",
      "              coefficient  std.error  t.value p.value     \n",
      "Intercept            2.29      1.301    1.757   0.082    .\n",
      "Treatment[2]        -0.98      0.722   -1.361   0.177     \n",
      "Product[2]           0.96      1.021    0.945   0.347     \n",
      "Product[3]           0.68      1.021    0.665   0.508     \n",
      "Product[4]           6.75      1.021    6.613  < .001  ***\n",
      "Day[2]              -2.31      1.350   -1.713    0.09    .\n",
      "Day[3]              -3.69      1.350   -2.731   0.007   **\n",
      "Day[4]              -2.62      1.350   -1.944   0.055    .\n",
      "Day[5]              -4.12      1.350   -3.055   0.003   **\n",
      "Day[6]              -4.06      1.350   -3.008   0.003   **\n",
      "Day[7]              -2.87      1.350   -2.129   0.036    *\n",
      "Week[2]              0.80      0.722    1.113   0.268     \n",
      "City[2]              2.66      0.722    3.686  < .001  ***\n",
      "\n",
      "Signif. codes:  0 '***' 0.001 '**' 0.01 '*' 0.05 '.' 0.1 ' ' 1\n",
      "\n",
      "R-squared: 0.466, Adjusted R-squared: 0.401\n",
      "F-statistic: 7.203 df(12, 99), p.value < 0.001\n",
      "Nr obs: 112\n"
     ]
    }
   ],
   "source": [
    "saves_reg = rsm.model.regress({\"saves regression\": pilot_data}, rvar = \"Saves_per_day\", evar = [\"Treatment\", \"Product\", \"Day\", \"Week\", \"City\"])\n",
    "saves_reg.summary()"
   ]
  },
  {
   "cell_type": "code",
   "execution_count": 34,
   "metadata": {},
   "outputs": [],
   "source": [
    "# Replace 0 in 'Clicks_per_day' with NaN temporarily for log calculation\n",
    "pilot_data['Saves_per_day_temp'] = pilot_data['Saves_per_day'].replace(0, np.nan)\n",
    "\n",
    "# Calculate the natural log of 'Clicks_per_day', log(0) will result in NaN\n",
    "pilot_data['ln_Saves_per_day'] = np.log(pilot_data['Saves_per_day_temp'])\n",
    "\n",
    "# Replace NaN back with 0 in 'ln_Clicks_per_day'\n",
    "pilot_data['ln_Saves_per_day'].fillna(0, inplace=True)\n",
    "\n",
    "# Drop the temporary column\n",
    "pilot_data.drop('Saves_per_day_temp', axis=1, inplace=True)"
   ]
  },
  {
   "cell_type": "code",
   "execution_count": 35,
   "metadata": {},
   "outputs": [
    {
     "name": "stdout",
     "output_type": "stream",
     "text": [
      "Linear regression (OLS)\n",
      "Data                 : saves regression\n",
      "Response variable    : ln_Saves_per_day\n",
      "Explanatory variables: Treatment, Product, Day, Week, City\n",
      "Null hyp.: the effect of x on ln_Saves_per_day is zero\n",
      "Alt. hyp.: the effect of x on ln_Saves_per_day is not zero\n",
      "\n",
      "              coefficient  std.error  t.value p.value     \n",
      "Intercept            0.33      0.220    1.510   0.134     \n",
      "Treatment[2]        -0.38      0.122   -3.072   0.003   **\n",
      "Product[2]           0.35      0.173    2.036   0.044    *\n",
      "Product[3]           0.13      0.173    0.773   0.442     \n",
      "Product[4]           1.34      0.173    7.784  < .001  ***\n",
      "Day[2]              -0.25      0.229   -1.102   0.273     \n",
      "Day[3]              -0.48      0.229   -2.085    0.04    *\n",
      "Day[4]              -0.20      0.229   -0.867   0.388     \n",
      "Day[5]              -0.58      0.229   -2.551   0.012    *\n",
      "Day[6]              -0.50      0.229   -2.176   0.032    *\n",
      "Day[7]              -0.23      0.229   -1.020    0.31     \n",
      "Week[2]              0.22      0.122    1.841   0.069    .\n",
      "City[2]              0.48      0.122    3.933  < .001  ***\n",
      "\n",
      "Signif. codes:  0 '***' 0.001 '**' 0.01 '*' 0.05 '.' 0.1 ' ' 1\n",
      "\n",
      "R-squared: 0.532, Adjusted R-squared: 0.475\n",
      "F-statistic: 9.384 df(12, 99), p.value < 0.001\n",
      "Nr obs: 112\n"
     ]
    }
   ],
   "source": [
    "saves_reg = rsm.model.regress({\"saves regression\": pilot_data}, rvar = \"ln_Saves_per_day\", evar = [\"Treatment\", \"Product\", \"Day\", \"Week\", \"City\"])\n",
    "saves_reg.summary()"
   ]
  },
  {
   "cell_type": "code",
   "execution_count": 36,
   "metadata": {},
   "outputs": [
    {
     "name": "stderr",
     "output_type": "stream",
     "text": [
      "/opt/conda/lib/python3.11/site-packages/pyrsm/model/visualize.py:36: FutureWarning: is_categorical_dtype is deprecated and will be removed in a future version. Use isinstance(dtype, CategoricalDtype) instead\n",
      "  and not pd.api.types.is_categorical_dtype(df[c].dtype)\n",
      "/opt/conda/lib/python3.11/site-packages/pyrsm/model/visualize.py:58: FutureWarning: is_categorical_dtype is deprecated and will be removed in a future version. Use isinstance(dtype, CategoricalDtype) instead\n",
      "  elif pd.api.types.is_categorical_dtype(s.dtype):\n",
      "/opt/conda/lib/python3.11/site-packages/pyrsm/model/visualize.py:58: FutureWarning: is_categorical_dtype is deprecated and will be removed in a future version. Use isinstance(dtype, CategoricalDtype) instead\n",
      "  elif pd.api.types.is_categorical_dtype(s.dtype):\n",
      "/opt/conda/lib/python3.11/site-packages/pyrsm/model/visualize.py:58: FutureWarning: is_categorical_dtype is deprecated and will be removed in a future version. Use isinstance(dtype, CategoricalDtype) instead\n",
      "  elif pd.api.types.is_categorical_dtype(s.dtype):\n",
      "/opt/conda/lib/python3.11/site-packages/pyrsm/model/visualize.py:58: FutureWarning: is_categorical_dtype is deprecated and will be removed in a future version. Use isinstance(dtype, CategoricalDtype) instead\n",
      "  elif pd.api.types.is_categorical_dtype(s.dtype):\n",
      "/opt/conda/lib/python3.11/site-packages/pyrsm/model/visualize.py:58: FutureWarning: is_categorical_dtype is deprecated and will be removed in a future version. Use isinstance(dtype, CategoricalDtype) instead\n",
      "  elif pd.api.types.is_categorical_dtype(s.dtype):\n"
     ]
    },
    {
     "data": {
      "image/png": "[encoded data removed]",
      "text/plain": [
       "<Figure size 1000x1200 with 6 Axes>"
      ]
     },
     "metadata": {},
     "output_type": "display_data"
    }
   ],
   "source": [
    "saves_reg.plot('distr')"
   ]
  },
  {
   "cell_type": "markdown",
   "metadata": {},
   "source": [
    "#### Linear Regression (Saves)"
   ]
  }
 ],
 "metadata": {
  "kernelspec": {
   "display_name": "base",
   "language": "python",
   "name": "python3"
  },
  "language_info": {
   "codemirror_mode": {
    "name": "ipython",
    "version": 3
   },
   "file_extension": ".py",
   "mimetype": "text/x-python",
   "name": "python",
   "nbconvert_exporter": "python",
   "pygments_lexer": "ipython3",
   "version": "3.11.5"
  }
 },
 "nbformat": 4,
 "nbformat_minor": 2
}
